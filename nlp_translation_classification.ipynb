{
 "cells": [
  {
   "cell_type": "markdown",
   "id": "4a32bb4e",
   "metadata": {},
   "source": [
    "# **NLP Classification: Human vs. Machine Translation**\n",
    "## **Objective:**\n",
    "This project aims to classify Spanish sentences as either:\n",
    "- **0 (Machine-translated)**\n",
    "- **1 (Human-translated)**\n",
    "\n",
    "We will preprocess text, extract features, and train a classifier."
   ]
  },
  {
   "cell_type": "markdown",
   "id": "2ccc0231",
   "metadata": {},
   "source": [
    "## **1. Install & Import Libraries**"
   ]
  },
  {
   "cell_type": "code",
   "execution_count": null,
   "id": "06f75096",
   "metadata": {},
   "outputs": [],
   "source": [
    "pip install numpy pandas matplotlib seaborn scikit-learn\n",
    "pip install nltk spacy unidecode transformers sentence-transformers torch torchvision torchaudio\n",
    "pip install tensorflow keras fastapi uvicorn\n",
    "python -m spacy download es_core_news_md"
   ]
  },
  {
   "cell_type": "code",
   "execution_count": null,
   "id": "70ae7a0c",
   "metadata": {},
   "outputs": [],
   "source": [
    "import numpy as np\n",
    "import pandas as pd\n",
    "import matplotlib.pyplot as plt\n",
    "import seaborn as sns\n",
    "import nltk\n",
    "import spacy\n",
    "import torch\n",
    "from sklearn.model_selection import train_test_split\n",
    "from sklearn.feature_extraction.text import TfidfVectorizer\n",
    "from sklearn.linear_model import LogisticRegression\n",
    "from sklearn.metrics import accuracy_score, classification_report, confusion_matrix"
   ]
  },
  {
   "cell_type": "markdown",
   "id": "d62949d5",
   "metadata": {},
   "source": [
    "## **2. Load & Explore Dataset**"
   ]
  },
  {
   "cell_type": "code",
   "execution_count": null,
   "id": "c61728d4",
   "metadata": {},
   "outputs": [],
   "source": [
    "# Load dataset (update filename accordingly)\n",
    "df = pd.read_csv('dataset.csv')\n",
    "df.head()"
   ]
  },
  {
   "cell_type": "code",
   "execution_count": null,
   "id": "ccb8f3a6",
   "metadata": {},
   "outputs": [],
   "source": [
    "# Check dataset info\n",
    "df.info()\n",
    "# Check label distribution\n",
    "sns.countplot(x=df['label'])\n",
    "plt.show()"
   ]
  },
  {
   "cell_type": "markdown",
   "id": "7f003628",
   "metadata": {},
   "source": [
    "## **3. Text Preprocessing**"
   ]
  },
  {
   "cell_type": "code",
   "execution_count": null,
   "id": "98a9bd2b",
   "metadata": {},
   "outputs": [],
   "source": [
    "# Load SpaCy Spanish model\n",
    "nlp = spacy.load('es_core_news_md')\n",
    "def preprocess_text(text):\n",
    "    doc = nlp(text.lower())\n",
    "    tokens = [token.lemma_ for token in doc if not token.is_stop and token.is_alpha]\n",
    "    return ' '.join(tokens)\n",
    "df['clean_text'] = df['text'].apply(preprocess_text)\n",
    "df.head()"
   ]
  },
  {
   "cell_type": "markdown",
   "id": "fbcf9cb5",
   "metadata": {},
   "source": [
    "## **4. Feature Extraction**"
   ]
  },
  {
   "cell_type": "code",
   "execution_count": null,
   "id": "2d5b71c0",
   "metadata": {},
   "outputs": [],
   "source": [
    "vectorizer = TfidfVectorizer()\n",
    "X = vectorizer.fit_transform(df['clean_text'])\n",
    "y = df['label']\n",
    "X_train, X_test, y_train, y_test = train_test_split(X, y, test_size=0.2, random_state=42)"
   ]
  },
  {
   "cell_type": "markdown",
   "id": "5514e2fa",
   "metadata": {},
   "source": [
    "## **5. Model Training & Evaluation**"
   ]
  },
  {
   "cell_type": "code",
   "execution_count": null,
   "id": "dcfce154",
   "metadata": {},
   "outputs": [],
   "source": [
    "model = LogisticRegression()\n",
    "model.fit(X_train, y_train)\n",
    "y_pred = model.predict(X_test)\n",
    "print('Accuracy:', accuracy_score(y_test, y_pred))\n",
    "print(classification_report(y_test, y_pred))"
   ]
  },
  {
   "cell_type": "code",
   "execution_count": null,
   "id": "7f779d10",
   "metadata": {},
   "outputs": [],
   "source": [
    "plt.figure(figsize=(5,5))\n",
    "sns.heatmap(confusion_matrix(y_test, y_pred), annot=True, fmt='d', cmap='Blues')\n",
    "plt.xlabel('Predicted')\n",
    "plt.ylabel('Actual')\n",
    "plt.title('Confusion Matrix')\n",
    "plt.show()"
   ]
  },
  {
   "cell_type": "markdown",
   "id": "088f3c09",
   "metadata": {},
   "source": [
    "## **6. Save Model for Deployment**"
   ]
  },
  {
   "cell_type": "code",
   "execution_count": null,
   "id": "e8148470",
   "metadata": {},
   "outputs": [],
   "source": [
    "import pickle\n",
    "with open('translation_classifier.pkl', 'wb') as f:\n",
    "    pickle.dump(model, f)\n",
    "print('Model saved!')"
   ]
  },
  {
   "cell_type": "markdown",
   "id": "1a5f0d9b",
   "metadata": {},
   "source": [
    "## **Next Steps 🚀**\n",
    "- Try different models (SVM, Random Forest, BERT).\n",
    "- Fine-tune hyperparameters.\n",
    "- Deploy using **FastAPI** or **Flask**.\n",
    "\n",
    "Happy coding! 🎯"
   ]
  }
 ],
 "metadata": {
  "kernelspec": {
   "display_name": "Python 3.13 Custom",
   "language": "python",
   "name": "my_custom_kernel"
  },
  "language_info": {
   "name": "python",
   "version": "3.10.10"
  }
 },
 "nbformat": 4,
 "nbformat_minor": 5
}
